{
 "cells": [
  {
   "cell_type": "code",
   "execution_count": 99,
   "metadata": {},
   "outputs": [],
   "source": [
    "import bs4\n",
    "from urllib.request import urlopen as uReq\n",
    "from bs4 import BeautifulSoup as soup"
   ]
  },
  {
   "cell_type": "code",
   "execution_count": 100,
   "metadata": {},
   "outputs": [],
   "source": [
    "url = 'https://www.newegg.com/Video-Cards-Video-Devices/Category/ID-38'"
   ]
  },
  {
   "cell_type": "code",
   "execution_count": 116,
   "metadata": {},
   "outputs": [],
   "source": [
    "uClient = uReq(url)\n",
    "page_html = uClient.read()\n",
    "uClient.close()\n",
    "\n",
    "filename = \"products.csv\"\n",
    "f = open(filename,\"w\")"
   ]
  },
  {
   "cell_type": "code",
   "execution_count": 102,
   "metadata": {},
   "outputs": [],
   "source": [
    "page_soup = soup(page_html, \"lxml\")"
   ]
  },
  {
   "cell_type": "code",
   "execution_count": 103,
   "metadata": {},
   "outputs": [],
   "source": [
    "containers = page_soup.findAll(\"div\",{\"class\":\"item-cell\"})"
   ]
  },
  {
   "cell_type": "code",
   "execution_count": 104,
   "metadata": {},
   "outputs": [
    {
     "data": {
      "text/plain": [
       "'ASUS TUF Gaming Radeon RX 6900 XT Video Card TUF-RX6900XT-O16G-GAMING'"
      ]
     },
     "execution_count": 104,
     "metadata": {},
     "output_type": "execute_result"
    }
   ],
   "source": [
    "containers[0].findAll(\"a\",{\"class\":\"item-title\"})[0].text"
   ]
  },
  {
   "cell_type": "code",
   "execution_count": 105,
   "metadata": {},
   "outputs": [
    {
     "data": {
      "text/plain": [
       "'ASUS'"
      ]
     },
     "execution_count": 105,
     "metadata": {},
     "output_type": "execute_result"
    }
   ],
   "source": [
    "containers[0].div.div.div.findAll(\"a\",{\"class\":\"item-brand\"})[0].img['title']"
   ]
  },
  {
   "cell_type": "code",
   "execution_count": 117,
   "metadata": {
    "scrolled": true
   },
   "outputs": [
    {
     "name": "stdout",
     "output_type": "stream",
     "text": [
      "ASUS\n",
      "ASUS TUF Gaming Radeon RX 6900 XT Video Card TUF-RX6900XT-O16G-GAMING\n",
      "ASUS\n",
      "ASUS ROG Strix NVIDIA GeForce RTX 3080 OC Edition Gaming Graphics Card (PCIe 4.0, 12GB GDDR6X, LHR, HDMI 2.1, DisplayPort 1.4a, Axial-tech Fan Design, 2.9-slot, Super Alloy Power II, GPU Tweak II)\n",
      "ASUS\n",
      "ASUS Noctua OC Edition GeForce RTX 3070 Video Card RTX3070-O8G-NOCTUA (LHR)\n",
      "MSI\n",
      "MSI Ventus GeForce RTX 3080 Ti Video Card RTX 3080 Ti VENTUS 3X 12G\n",
      "GIGABYTE\n",
      "GIGABYTE Eagle GeForce RTX 3080 Ti Video Card GV-N308TEAGLE-12GD\n",
      "EVGA\n",
      "EVGA GeForce RTX 3080 Ti FTW3 ULTRA GAMING Video Card, 12G-P5-3967-KR, 12GB GDDR6X, iCX3 Technology, ARGB LED, Metal Backplate\n",
      "GIGABYTE\n",
      "GIGABYTE Gaming GeForce RTX 3080 Ti Video Card GV-N308TGAMING OC-12GD\n",
      "GIGABYTE\n",
      "GIGABYTE Vision GeForce RTX 3080 Ti Video Card GV-N308TVISION OC-12GD\n",
      "MSI\n",
      "MSI Gaming GeForce RTX 3080 Ti Video Card RTX 3080 Ti Gaming X Trio 12G\n",
      "MSI\n",
      "MSI Ventus GeForce RTX 3080 Ti Video Card RTX 3080 Ti Ventus 3X 12G OC\n",
      "EVGA\n",
      "EVGA GeForce RTX 3080 Ti XC3 GAMING Video Card, 12G-P5-3953-KR, 12GB GDDR6X, iCX3 Cooling, ARGB LED, Metal Backplate\n",
      "GIGABYTE\n",
      "GIGABYTE Eagle GeForce RTX 3080 Ti Video Card GV-N308TEAGLE OC-12GD\n"
     ]
    }
   ],
   "source": [
    "brand = []\n",
    "product_name = []\n",
    "for c in containers:\n",
    "    brand = c.div.div.div.findAll(\"a\",{\"class\":\"item-brand\"})[0].img['title']\n",
    "    title_container = c.findAll(\"a\",{\"class\":\"item-title\"})[0].text\n",
    "    print(brand)\n",
    "    print(title_container)\n",
    "    f.write(brand+ \",\" + title_container.replace(\",\",\"|\") + \"\\n\")\n",
    "    \n",
    "f.close()\n",
    "    "
   ]
  }
 ],
 "metadata": {
  "kernelspec": {
   "display_name": "Python 3",
   "language": "python",
   "name": "python3"
  },
  "language_info": {
   "codemirror_mode": {
    "name": "ipython",
    "version": 3
   },
   "file_extension": ".py",
   "mimetype": "text/x-python",
   "name": "python",
   "nbconvert_exporter": "python",
   "pygments_lexer": "ipython3",
   "version": "3.8.5"
  }
 },
 "nbformat": 4,
 "nbformat_minor": 4
}
